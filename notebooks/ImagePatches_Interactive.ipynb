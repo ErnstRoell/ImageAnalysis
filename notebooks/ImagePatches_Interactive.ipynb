{
 "cells": [
  {
   "cell_type": "markdown",
   "metadata": {},
   "source": [
    "# Interactive Image Patches\n",
    "\n",
    "This module is very similar to the other image patches module, but it shows how to interactively choose the cocycle representatives and stereographic north pole.  First, we import things and setup the patches.  Then, we plot an interactive window, where we can choose representative cocycles, coverage, type of partition of unity, and the stereographic north pole"
   ]
  },
  {
   "cell_type": "code",
   "execution_count": null,
   "metadata": {
    "scrolled": false
   },
   "outputs": [],
   "source": [
    "import matplotlib.pyplot as plt\n",
    "import numpy as np\n",
    "from dreimac import ProjectiveCoords, get_line_patches\n",
    "\n",
    "dim = 10\n",
    "P = get_line_patches(dim=dim, NAngles = 200, NOffsets = 200, sigma=0.25)\n",
    "patches = [np.reshape(P[i, :], (dim, dim)) for i in range(P.shape[0])]\n",
    "pc = ProjectiveCoords(P, n_landmarks=100)\n",
    "pc.plot(patches, max_disp=200)"
   ]
  },
  {
   "cell_type": "markdown",
   "metadata": {},
   "source": [
    "After we're satisfied with our selections, we can save the parameters that we selected and print them out"
   ]
  },
  {
   "cell_type": "code",
   "execution_count": null,
   "metadata": {},
   "outputs": [],
   "source": [
    "params = pc.get_selected_info()\n",
    "for key, value in params.items():\n",
    "    print(key, \":\", value)"
   ]
  },
  {
   "cell_type": "markdown",
   "metadata": {},
   "source": [
    "We can send this information back to the plot function of the projective coordinates object if we want to pick up where we left off"
   ]
  },
  {
   "cell_type": "code",
   "execution_count": null,
   "metadata": {
    "scrolled": false
   },
   "outputs": [],
   "source": [
    "pc = ProjectiveCoords(P, n_landmarks=100)\n",
    "pc.plot(patches, max_disp=200, init_params=params)"
   ]
  },
  {
   "cell_type": "code",
   "execution_count": null,
   "metadata": {},
   "outputs": [],
   "source": []
  }
 ],
 "metadata": {
  "kernelspec": {
   "display_name": "Python 3",
   "language": "python",
   "name": "python3"
  },
  "language_info": {
   "codemirror_mode": {
    "name": "ipython",
    "version": 3
   },
   "file_extension": ".py",
   "mimetype": "text/x-python",
   "name": "python",
   "nbconvert_exporter": "python",
   "pygments_lexer": "ipython3",
   "version": "3.8.3"
  }
 },
 "nbformat": 4,
 "nbformat_minor": 4
}
