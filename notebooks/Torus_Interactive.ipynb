{
 "cells": [
  {
   "cell_type": "markdown",
   "metadata": {},
   "source": [
    "## Interactive Torus Circular Coordinates\n",
    "\n",
    "This notebook shows how to interactively choose the cocycle representatives and the viewing angle of a 3D point cloud with circular coordinates.  First, we import things and sample the torus.  Then, we pop up the interactive interface and make our choices"
   ]
  },
  {
   "cell_type": "code",
   "execution_count": null,
   "metadata": {},
   "outputs": [],
   "source": [
    "import matplotlib.pyplot as plt\n",
    "import numpy as np\n",
    "from dreimac import CircularCoords\n",
    "\n",
    "prime = 41\n",
    "np.random.seed(2)\n",
    "N = 10000\n",
    "R = 5\n",
    "r = 2\n",
    "X = np.zeros((N, 3))\n",
    "s = np.random.rand(N)*2*np.pi\n",
    "t = np.random.rand(N)*2*np.pi\n",
    "t = 2*np.pi*t\n",
    "X[:, 0] = (R + r*np.cos(s))*np.cos(t)\n",
    "X[:, 1] = (R + r*np.cos(s))*np.sin(t)\n",
    "X[:, 2] = r*np.sin(s)\n",
    "\n",
    "cc = CircularCoords(X, 100, prime = prime)\n",
    "cc.plot_dimreduced(X)"
   ]
  },
  {
   "cell_type": "markdown",
   "metadata": {},
   "source": [
    "Next, we extract what we saved"
   ]
  },
  {
   "cell_type": "code",
   "execution_count": null,
   "metadata": {},
   "outputs": [],
   "source": [
    "params = cc.get_selected_dimreduced_info()\n",
    "for key, value in params.items():\n",
    "    print(key, \":\", value)"
   ]
  },
  {
   "cell_type": "markdown",
   "metadata": {},
   "source": [
    "Next, we send this information back to the plot function of the projective coordinates object to pick up where we left off, and we choose another representative cocycle, which picks up on the inner loop"
   ]
  },
  {
   "cell_type": "code",
   "execution_count": null,
   "metadata": {},
   "outputs": [],
   "source": [
    "cc = CircularCoords(X, 100, prime = prime)\n",
    "cc.plot_dimreduced(X, init_params=params)"
   ]
  }
 ],
 "metadata": {
  "kernelspec": {
   "display_name": "Python 3",
   "language": "python",
   "name": "python3"
  },
  "language_info": {
   "codemirror_mode": {
    "name": "ipython",
    "version": 3
   },
   "file_extension": ".py",
   "mimetype": "text/x-python",
   "name": "python",
   "nbconvert_exporter": "python",
   "pygments_lexer": "ipython3",
   "version": "3.8.3"
  }
 },
 "nbformat": 4,
 "nbformat_minor": 4
}
