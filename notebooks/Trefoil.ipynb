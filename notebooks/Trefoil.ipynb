{
 "cells": [
  {
   "cell_type": "markdown",
   "metadata": {},
   "source": [
    "# Trefoil Knot\n",
    "The purpose of this notebook is to show how the twisted geometry of the trefoil not can lead to some strange results with circular coordinates if parameters aren't chosen carefully.  In particular, a coverage that is too large leads to strange results"
   ]
  },
  {
   "cell_type": "code",
   "execution_count": null,
   "metadata": {
    "scrolled": false
   },
   "outputs": [],
   "source": [
    "# Do imports\n",
    "import matplotlib.pyplot as plt\n",
    "import numpy as np\n",
    "from dreimac import CircularCoords\n",
    "\n",
    "# Setup trefoil knot\n",
    "np.random.seed(0)\n",
    "n_data = 2500\n",
    "u = 4*np.pi*np.random.rand(n_data)\n",
    "v = 2*np.pi*np.random.rand(n_data)\n",
    "X = np.zeros((n_data, 3))\n",
    "X[:, 0] = np.cos(u)*np.cos(v) + 6*np.cos(u)*(1.5+np.sin(1.5*u)/2)\n",
    "X[:, 1] = np.sin(u)*np.cos(v) + 6*np.sin(u)*(1.5+np.sin(1.5*u)/2)\n",
    "X[:, 2] = np.sin(v) + 4*np.cos(1.5*u)\n",
    "\n",
    "# Do interactive plot\n",
    "prime = 41\n",
    "cc = CircularCoords(X, 100, prime = prime)\n",
    "cc.plot_dimreduced(X)"
   ]
  },
  {
   "cell_type": "markdown",
   "metadata": {},
   "source": [
    "Let's save off these parameters for future use.  We will pass them onto the next circular coordinate instance so that we're looking at the trefoil knot from the same point of view we chose above"
   ]
  },
  {
   "cell_type": "code",
   "execution_count": null,
   "metadata": {},
   "outputs": [],
   "source": [
    "params1 = cc.get_selected_dimreduced_info()\n",
    "print(params1)"
   ]
  },
  {
   "cell_type": "markdown",
   "metadata": {},
   "source": [
    "On the other hand, for the same representative cocycle, a coverage which is small, but not too small, leads to good results"
   ]
  },
  {
   "cell_type": "code",
   "execution_count": null,
   "metadata": {},
   "outputs": [],
   "source": [
    "cc = CircularCoords(X, 100, prime = prime)\n",
    "cc.plot_dimreduced(X, init_params=params1)"
   ]
  },
  {
   "cell_type": "code",
   "execution_count": null,
   "metadata": {},
   "outputs": [],
   "source": []
  }
 ],
 "metadata": {
  "kernelspec": {
   "display_name": "Python 3",
   "language": "python",
   "name": "python3"
  },
  "language_info": {
   "codemirror_mode": {
    "name": "ipython",
    "version": 3
   },
   "file_extension": ".py",
   "mimetype": "text/x-python",
   "name": "python",
   "nbconvert_exporter": "python",
   "pygments_lexer": "ipython3",
   "version": "3.8.3"
  }
 },
 "nbformat": 4,
 "nbformat_minor": 4
}
